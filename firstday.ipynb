{
 "cells": [
  {
   "cell_type": "markdown",
   "metadata": {
    "id": "tKTohyC0z8F-"
   },
   "source": [
    "### 기초 Python 프로그래밍"
   ]
  },
  {
   "cell_type": "code",
   "execution_count": 1,
   "metadata": {
    "colab": {
     "base_uri": "https://localhost:8080/"
    },
    "executionInfo": {
     "elapsed": 535,
     "status": "ok",
     "timestamp": 1734425247100,
     "user": {
      "displayName": "김지범",
      "userId": "05227637304833993338"
     },
     "user_tz": -540
    },
    "id": "oC-Vm3EnyrMo",
    "outputId": "519db7a0-c83b-4228-d30d-0f5e9dc2e0b2"
   },
   "outputs": [
    {
     "name": "stdout",
     "output_type": "stream",
     "text": [
      "5\n"
     ]
    }
   ],
   "source": [
    "a=3\n",
    "b=2\n",
    "print(a+b)"
   ]
  },
  {
   "cell_type": "code",
   "execution_count": 2,
   "metadata": {
    "colab": {
     "base_uri": "https://localhost:8080/"
    },
    "executionInfo": {
     "elapsed": 505,
     "status": "ok",
     "timestamp": 1734425254755,
     "user": {
      "displayName": "김지범",
      "userId": "05227637304833993338"
     },
     "user_tz": -540
    },
    "id": "NoAunKnkzGAX",
    "outputId": "197045c7-4fcc-41b4-8cef-6c009d2f4902"
   },
   "outputs": [
    {
     "name": "stdout",
     "output_type": "stream",
     "text": [
      "5\n",
      "1\n",
      "6\n",
      "1.5\n",
      "True\n",
      "False\n",
      "True\n",
      "False\n",
      "False\n",
      "True\n"
     ]
    }
   ],
   "source": [
    "a=3\n",
    "b=2\n",
    "# 사칙 연산\n",
    "print(a+b)\n",
    "print(a-b)\n",
    "print(a*b)\n",
    "print(a/b)\n",
    "# 비교 연산\n",
    "print(a>b)\n",
    "print(a<b)\n",
    "print(a>=b)\n",
    "print(a<=b)\n",
    "print(a==b)\n",
    "print(a!=b)"
   ]
  },
  {
   "cell_type": "code",
   "execution_count": 3,
   "metadata": {
    "colab": {
     "base_uri": "https://localhost:8080/"
    },
    "executionInfo": {
     "elapsed": 313,
     "status": "ok",
     "timestamp": 1734941606227,
     "user": {
      "displayName": "김지범",
      "userId": "05227637304833993338"
     },
     "user_tz": -540
    },
    "id": "3r9ok744kuqZ",
    "outputId": "03f6e93d-973b-4958-b5f6-b2bff372edf2"
   },
   "outputs": [
    {
     "name": "stdout",
     "output_type": "stream",
     "text": [
      "6283.184\n"
     ]
    }
   ],
   "source": [
    "# 코드의 가독성 비교 (가독성 떨어짐)\n",
    "volume_of_cylinder=3.141592*(10 **2) * 20\n",
    "print(volume_of_cylinder)"
   ]
  },
  {
   "cell_type": "code",
   "execution_count": 4,
   "metadata": {
    "colab": {
     "base_uri": "https://localhost:8080/"
    },
    "executionInfo": {
     "elapsed": 319,
     "status": "ok",
     "timestamp": 1734941644808,
     "user": {
      "displayName": "김지범",
      "userId": "05227637304833993338"
     },
     "user_tz": -540
    },
    "id": "__yXt1CZx1rD",
    "outputId": "030662a7-4f01-4fe1-b4ef-4d66374d2c71"
   },
   "outputs": [
    {
     "name": "stdout",
     "output_type": "stream",
     "text": [
      "6283.184\n"
     ]
    }
   ],
   "source": [
    "# 코드의 가독성 비교 (변수를 사용하여 가독성 좋음)\n",
    "pi=3.141592\n",
    "radius=10\n",
    "height=20\n",
    "volume_of_cylinder=pi*(radius**2)*height\n",
    "print(volume_of_cylinder)"
   ]
  },
  {
   "cell_type": "code",
   "execution_count": 5,
   "metadata": {
    "colab": {
     "base_uri": "https://localhost:8080/"
    },
    "executionInfo": {
     "elapsed": 321,
     "status": "ok",
     "timestamp": 1734941740302,
     "user": {
      "displayName": "김지범",
      "userId": "05227637304833993338"
     },
     "user_tz": -540
    },
    "id": "5WzyheqSlfni",
    "outputId": "fc238815-98dc-4088-d8d8-c6dcffd872ea"
   },
   "outputs": [
    {
     "data": {
      "text/plain": [
       "128"
      ]
     },
     "execution_count": 5,
     "metadata": {},
     "output_type": "execute_result"
    }
   ],
   "source": [
    "2**7"
   ]
  },
  {
   "cell_type": "markdown",
   "metadata": {
    "id": "HsbXKx8s0Am_"
   },
   "source": [
    "실습문제 1\n",
    "\n",
    "아래와 같은 함수가 있다:\n",
    "\n",
    "$ y=3*x^2+5*x+3/x+7$\n",
    "\n",
    "x=2일때 파이썬 코드를 사용해 y의 값을 구하고 출력하자."
   ]
  },
  {
   "cell_type": "code",
   "execution_count": 6,
   "metadata": {
    "colab": {
     "base_uri": "https://localhost:8080/"
    },
    "executionInfo": {
     "elapsed": 703,
     "status": "ok",
     "timestamp": 1735079385998,
     "user": {
      "displayName": "김지범",
      "userId": "05227637304833993338"
     },
     "user_tz": -540
    },
    "id": "KJazeRynzTbz",
    "outputId": "1065578f-a223-4d62-a905-55f2a7c7a066"
   },
   "outputs": [
    {
     "data": {
      "text/plain": [
       "30.5"
      ]
     },
     "execution_count": 6,
     "metadata": {},
     "output_type": "execute_result"
    }
   ],
   "source": [
    "# x값 대입\n",
    "x =2\n",
    "# y값을 변수 x를 사용해 계산\n",
    "y =3*x*x+5*x+3/x+7\n",
    "# 출력\n",
    "y"
   ]
  },
  {
   "cell_type": "code",
   "execution_count": 7,
   "metadata": {
    "colab": {
     "base_uri": "https://localhost:8080/"
    },
    "executionInfo": {
     "elapsed": 322,
     "status": "ok",
     "timestamp": 1734941836019,
     "user": {
      "displayName": "김지범",
      "userId": "05227637304833993338"
     },
     "user_tz": -540
    },
    "id": "-y6o2we_0l7r",
    "outputId": "2d5cb995-3982-45b3-f3b5-c3186991aa2a"
   },
   "outputs": [
    {
     "name": "stdout",
     "output_type": "stream",
     "text": [
      "27.0\n",
      "99.0\n",
      "3.141592653589793\n",
      "1.0\n"
     ]
    }
   ],
   "source": [
    "import math\n",
    "# 3의 3제곱\n",
    "print(math.pow(3,3))\n",
    "# -99의 실수 절대값\n",
    "print(math.fabs(-99))\n",
    "# 원주율 pi\n",
    "print(math.pi)\n",
    "# sin(pi/2)\n",
    "print(math.sin(math.pi/2.0))"
   ]
  },
  {
   "cell_type": "code",
   "execution_count": 8,
   "metadata": {
    "colab": {
     "base_uri": "https://localhost:8080/"
    },
    "executionInfo": {
     "elapsed": 321,
     "status": "ok",
     "timestamp": 1734426011530,
     "user": {
      "displayName": "김지범",
      "userId": "05227637304833993338"
     },
     "user_tz": -540
    },
    "id": "18bgluFU1Bhl",
    "outputId": "10dd03a4-9247-4121-f12f-486920b44b8a"
   },
   "outputs": [
    {
     "name": "stdout",
     "output_type": "stream",
     "text": [
      "x\n",
      "x\n",
      "x\n"
     ]
    }
   ],
   "source": [
    "x=3\n",
    "if x+3 > 5:\n",
    "  print(\"x\")\n",
    "  if x**2+1 >9:\n",
    "    print(\"x\")\n",
    "  elif x**2+1 ==9:\n",
    "    print(\"y\")\n",
    "  else:\n",
    "    print(\"z\")\n",
    "elif x+3==5:\n",
    "  print(\"y\")\n",
    "else:\n",
    "  print(\"z\")\n",
    "print(\"x\")"
   ]
  },
  {
   "cell_type": "code",
   "execution_count": 9,
   "metadata": {
    "colab": {
     "base_uri": "https://localhost:8080/"
    },
    "executionInfo": {
     "elapsed": 296,
     "status": "ok",
     "timestamp": 1734426059694,
     "user": {
      "displayName": "김지범",
      "userId": "05227637304833993338"
     },
     "user_tz": -540
    },
    "id": "53BJ7IVA2SfM",
    "outputId": "3c0d25c7-4117-4a46-d2dc-ad222383b069"
   },
   "outputs": [
    {
     "name": "stdout",
     "output_type": "stream",
     "text": [
      "1\n",
      "2\n",
      "3\n",
      "4\n",
      "5\n"
     ]
    }
   ],
   "source": [
    "for i in range(1, 6, 1):\n",
    "  print(i)"
   ]
  },
  {
   "cell_type": "code",
   "execution_count": 10,
   "metadata": {
    "colab": {
     "base_uri": "https://localhost:8080/"
    },
    "executionInfo": {
     "elapsed": 316,
     "status": "ok",
     "timestamp": 1734426081759,
     "user": {
      "displayName": "김지범",
      "userId": "05227637304833993338"
     },
     "user_tz": -540
    },
    "id": "LzHgbmA22YkZ",
    "outputId": "11262318-5e2d-401b-c8a2-c65b88baf632"
   },
   "outputs": [
    {
     "name": "stdout",
     "output_type": "stream",
     "text": [
      "10\n",
      "9\n",
      "8\n",
      "7\n",
      "6\n",
      "5\n",
      "4\n",
      "3\n",
      "2\n",
      "1\n"
     ]
    }
   ],
   "source": [
    "for i in range(10, 0, -1):\n",
    "  print(i)"
   ]
  },
  {
   "cell_type": "code",
   "execution_count": 11,
   "metadata": {
    "colab": {
     "base_uri": "https://localhost:8080/"
    },
    "executionInfo": {
     "elapsed": 316,
     "status": "ok",
     "timestamp": 1734426470403,
     "user": {
      "displayName": "김지범",
      "userId": "05227637304833993338"
     },
     "user_tz": -540
    },
    "id": "xGNizQuL35zy",
    "outputId": "8d4e9de6-815c-4208-c885-b2e6c4388115"
   },
   "outputs": [
    {
     "name": "stdout",
     "output_type": "stream",
     "text": [
      "1부터 10까지의 합은: 55\n"
     ]
    }
   ],
   "source": [
    "total = 0\n",
    "for i in range(1, 11):  # range(1, 11)은 1부터 10까지의 숫자를 생성합니다.\n",
    "    total += i\n",
    "\n",
    "print(\"1부터 10까지의 합은:\", total)\n"
   ]
  },
  {
   "cell_type": "code",
   "execution_count": 12,
   "metadata": {
    "colab": {
     "base_uri": "https://localhost:8080/"
    },
    "executionInfo": {
     "elapsed": 317,
     "status": "ok",
     "timestamp": 1734426431518,
     "user": {
      "displayName": "김지범",
      "userId": "05227637304833993338"
     },
     "user_tz": -540
    },
    "id": "aKZIHTjg3Zm6",
    "outputId": "941db22c-12f4-465b-b4dd-170fdd807162"
   },
   "outputs": [
    {
     "name": "stdout",
     "output_type": "stream",
     "text": [
      "1부터 10까지의 합은: 55\n"
     ]
    }
   ],
   "source": [
    "# 1부터 10까지의 합 계산\n",
    "total = 0\n",
    "number = 1\n",
    "\n",
    "while number <= 10:  # number가 10 이하인 동안 반복\n",
    "    total += number  # total에 number를 더함\n",
    "    number += 1      # number를 1씩 증가\n",
    "\n",
    "print(\"1부터 10까지의 합은:\", total)\n"
   ]
  },
  {
   "cell_type": "markdown",
   "metadata": {
    "id": "zhvCRlOkoOMW"
   },
   "source": [
    "### 실습문제 2"
   ]
  },
  {
   "cell_type": "code",
   "execution_count": 13,
   "metadata": {
    "colab": {
     "base_uri": "https://localhost:8080/"
    },
    "executionInfo": {
     "elapsed": 265,
     "status": "ok",
     "timestamp": 1734942573230,
     "user": {
      "displayName": "김지범",
      "userId": "05227637304833993338"
     },
     "user_tz": -540
    },
    "id": "FVgmbG5FoLgE",
    "outputId": "2164f667-6aa5-4e29-f22a-8bd3d479d32a"
   },
   "outputs": [
    {
     "name": "stdout",
     "output_type": "stream",
     "text": [
      "짝수의 합: 20\n",
      "홀수의 곱: 15\n"
     ]
    }
   ],
   "source": [
    "numbers=[2, 3, 5, 8, 10]\n",
    "even_sum=0 # 짝수의 합\n",
    "odd_product=1 # 홀수의 곱\n",
    "for num in numbers:\n",
    "  if num%2==0:\n",
    "    even_sum+=num\n",
    "  else:\n",
    "    odd_product*=num\n",
    "\n",
    "print(\"짝수의 합:\", even_sum)\n",
    "print(\"홀수의 곱:\", odd_product)"
   ]
  },
  {
   "cell_type": "markdown",
   "metadata": {
    "id": "3FJN9Dlmo7XT"
   },
   "source": [
    "### List, 행렬"
   ]
  },
  {
   "cell_type": "code",
   "execution_count": 14,
   "metadata": {
    "colab": {
     "base_uri": "https://localhost:8080/"
    },
    "executionInfo": {
     "elapsed": 407,
     "status": "ok",
     "timestamp": 1734942692895,
     "user": {
      "displayName": "김지범",
      "userId": "05227637304833993338"
     },
     "user_tz": -540
    },
    "id": "h8YwqJoDo5GV",
    "outputId": "9b1fdeb6-4f3e-4e00-bf37-8da1ca364210"
   },
   "outputs": [
    {
     "name": "stdout",
     "output_type": "stream",
     "text": [
      "[1, 2, 3]\n",
      "1\n",
      "3\n"
     ]
    }
   ],
   "source": [
    "# list 자료형, 순서있는 데이터 저장\n",
    "a=[1, 2, 3]\n",
    "print(a)\n",
    "# 첫번째 원소 출력\n",
    "print(a[0])\n",
    "# list의 길이 출력\n",
    "print(len(a))"
   ]
  },
  {
   "cell_type": "code",
   "execution_count": 15,
   "metadata": {
    "colab": {
     "base_uri": "https://localhost:8080/"
    },
    "executionInfo": {
     "elapsed": 284,
     "status": "ok",
     "timestamp": 1734943042454,
     "user": {
      "displayName": "김지범",
      "userId": "05227637304833993338"
     },
     "user_tz": -540
    },
    "id": "7YlnE1xsqYyJ",
    "outputId": "f8700788-378a-4c1e-ef5c-6cdf9bd6d27e"
   },
   "outputs": [
    {
     "data": {
      "text/plain": [
       "array([5, 7, 9])"
      ]
     },
     "execution_count": 15,
     "metadata": {},
     "output_type": "execute_result"
    }
   ],
   "source": [
    "import numpy as np\n",
    "a=np.array([1, 2, 3])\n",
    "b=np.array([4, 5, 6])\n",
    "a+b"
   ]
  },
  {
   "cell_type": "code",
   "execution_count": 16,
   "metadata": {
    "colab": {
     "base_uri": "https://localhost:8080/"
    },
    "executionInfo": {
     "elapsed": 264,
     "status": "ok",
     "timestamp": 1734943104305,
     "user": {
      "displayName": "김지범",
      "userId": "05227637304833993338"
     },
     "user_tz": -540
    },
    "id": "OP55myE-5n6H",
    "outputId": "014be663-474f-452c-8bd1-9a0111bbf5c9"
   },
   "outputs": [
    {
     "name": "stdout",
     "output_type": "stream",
     "text": [
      "[[ 6  8]\n",
      " [10 12]]\n",
      "(2, 2)\n"
     ]
    }
   ],
   "source": [
    "# 행렬은 2차원 배열로 표현한다.\n",
    "# 아래는 두 행렬의 덧셈을 보여준다.\n",
    "import numpy as np\n",
    "a = np.array([[1, 2],\n",
    "              [3, 4]])\n",
    "b = np.array([[5, 6],\n",
    "              [7, 8]])\n",
    "print(a+b)\n",
    "# 행렬의 크기, 몇행 몇열?\n",
    "print(np.shape(a))"
   ]
  },
  {
   "cell_type": "markdown",
   "metadata": {
    "id": "bSQmcLMqrS6m"
   },
   "source": [
    "### PANDAS, MATPLOTLIB"
   ]
  },
  {
   "cell_type": "code",
   "execution_count": 17,
   "metadata": {
    "colab": {
     "base_uri": "https://localhost:8080/",
     "height": 174
    },
    "executionInfo": {
     "elapsed": 437,
     "status": "ok",
     "timestamp": 1734943291962,
     "user": {
      "displayName": "김지범",
      "userId": "05227637304833993338"
     },
     "user_tz": -540
    },
    "id": "MssZjVP3rawf",
    "outputId": "549e1b66-c404-4689-a60a-882b98855ff2"
   },
   "outputs": [
    {
     "data": {
      "text/html": [
       "<div>\n",
       "<style scoped>\n",
       "    .dataframe tbody tr th:only-of-type {\n",
       "        vertical-align: middle;\n",
       "    }\n",
       "\n",
       "    .dataframe tbody tr th {\n",
       "        vertical-align: top;\n",
       "    }\n",
       "\n",
       "    .dataframe thead th {\n",
       "        text-align: right;\n",
       "    }\n",
       "</style>\n",
       "<table border=\"1\" class=\"dataframe\">\n",
       "  <thead>\n",
       "    <tr style=\"text-align: right;\">\n",
       "      <th></th>\n",
       "      <th>Name</th>\n",
       "      <th>Age</th>\n",
       "      <th>City</th>\n",
       "    </tr>\n",
       "  </thead>\n",
       "  <tbody>\n",
       "    <tr>\n",
       "      <th>0</th>\n",
       "      <td>Alice</td>\n",
       "      <td>24</td>\n",
       "      <td>New York</td>\n",
       "    </tr>\n",
       "    <tr>\n",
       "      <th>1</th>\n",
       "      <td>Bob</td>\n",
       "      <td>27</td>\n",
       "      <td>Los Angeles</td>\n",
       "    </tr>\n",
       "    <tr>\n",
       "      <th>2</th>\n",
       "      <td>Charlie</td>\n",
       "      <td>22</td>\n",
       "      <td>Chicago</td>\n",
       "    </tr>\n",
       "    <tr>\n",
       "      <th>3</th>\n",
       "      <td>David</td>\n",
       "      <td>32</td>\n",
       "      <td>Houston</td>\n",
       "    </tr>\n",
       "  </tbody>\n",
       "</table>\n",
       "</div>"
      ],
      "text/plain": [
       "      Name  Age         City\n",
       "0    Alice   24     New York\n",
       "1      Bob   27  Los Angeles\n",
       "2  Charlie   22      Chicago\n",
       "3    David   32      Houston"
      ]
     },
     "execution_count": 17,
     "metadata": {},
     "output_type": "execute_result"
    }
   ],
   "source": [
    "import pandas as pd\n",
    "\n",
    "# 데이터프레임 생성\n",
    "data = {\n",
    "    'Name': ['Alice', 'Bob', 'Charlie', 'David'],\n",
    "    'Age': [24, 27, 22, 32],\n",
    "    'City': ['New York', 'Los Angeles', 'Chicago', 'Houston']\n",
    "}\n",
    "\n",
    "df = pd.DataFrame(data)\n",
    "df"
   ]
  },
  {
   "cell_type": "code",
   "execution_count": 18,
   "metadata": {
    "colab": {
     "base_uri": "https://localhost:8080/",
     "height": 300
    },
    "executionInfo": {
     "elapsed": 314,
     "status": "ok",
     "timestamp": 1734943320330,
     "user": {
      "displayName": "김지범",
      "userId": "05227637304833993338"
     },
     "user_tz": -540
    },
    "id": "iMUGbme-rh5_",
    "outputId": "59d7806a-bc87-435f-edb5-37ad8339baea"
   },
   "outputs": [
    {
     "data": {
      "text/html": [
       "<div>\n",
       "<style scoped>\n",
       "    .dataframe tbody tr th:only-of-type {\n",
       "        vertical-align: middle;\n",
       "    }\n",
       "\n",
       "    .dataframe tbody tr th {\n",
       "        vertical-align: top;\n",
       "    }\n",
       "\n",
       "    .dataframe thead th {\n",
       "        text-align: right;\n",
       "    }\n",
       "</style>\n",
       "<table border=\"1\" class=\"dataframe\">\n",
       "  <thead>\n",
       "    <tr style=\"text-align: right;\">\n",
       "      <th></th>\n",
       "      <th>Age</th>\n",
       "    </tr>\n",
       "  </thead>\n",
       "  <tbody>\n",
       "    <tr>\n",
       "      <th>count</th>\n",
       "      <td>4.000000</td>\n",
       "    </tr>\n",
       "    <tr>\n",
       "      <th>mean</th>\n",
       "      <td>26.250000</td>\n",
       "    </tr>\n",
       "    <tr>\n",
       "      <th>std</th>\n",
       "      <td>4.349329</td>\n",
       "    </tr>\n",
       "    <tr>\n",
       "      <th>min</th>\n",
       "      <td>22.000000</td>\n",
       "    </tr>\n",
       "    <tr>\n",
       "      <th>25%</th>\n",
       "      <td>23.500000</td>\n",
       "    </tr>\n",
       "    <tr>\n",
       "      <th>50%</th>\n",
       "      <td>25.500000</td>\n",
       "    </tr>\n",
       "    <tr>\n",
       "      <th>75%</th>\n",
       "      <td>28.250000</td>\n",
       "    </tr>\n",
       "    <tr>\n",
       "      <th>max</th>\n",
       "      <td>32.000000</td>\n",
       "    </tr>\n",
       "  </tbody>\n",
       "</table>\n",
       "</div>"
      ],
      "text/plain": [
       "             Age\n",
       "count   4.000000\n",
       "mean   26.250000\n",
       "std     4.349329\n",
       "min    22.000000\n",
       "25%    23.500000\n",
       "50%    25.500000\n",
       "75%    28.250000\n",
       "max    32.000000"
      ]
     },
     "execution_count": 18,
     "metadata": {},
     "output_type": "execute_result"
    }
   ],
   "source": [
    "# 데이터프레임 정보 확인\n",
    "df.describe()"
   ]
  },
  {
   "cell_type": "code",
   "execution_count": 19,
   "metadata": {
    "colab": {
     "base_uri": "https://localhost:8080/"
    },
    "executionInfo": {
     "elapsed": 2,
     "status": "ok",
     "timestamp": 1734943333167,
     "user": {
      "displayName": "김지범",
      "userId": "05227637304833993338"
     },
     "user_tz": -540
    },
    "id": "pYmCwKdYrlMW",
    "outputId": "3f90f9bb-6e9b-49d6-f1d6-28ed9ea6d15e"
   },
   "outputs": [
    {
     "name": "stdout",
     "output_type": "stream",
     "text": [
      "<class 'pandas.core.frame.DataFrame'>\n",
      "RangeIndex: 4 entries, 0 to 3\n",
      "Data columns (total 3 columns):\n",
      " #   Column  Non-Null Count  Dtype \n",
      "---  ------  --------------  ----- \n",
      " 0   Name    4 non-null      object\n",
      " 1   Age     4 non-null      int64 \n",
      " 2   City    4 non-null      object\n",
      "dtypes: int64(1), object(2)\n",
      "memory usage: 228.0+ bytes\n"
     ]
    }
   ],
   "source": [
    "df.info()       # 데이터프레임 요약 정보 출력"
   ]
  },
  {
   "cell_type": "code",
   "execution_count": 20,
   "metadata": {
    "colab": {
     "base_uri": "https://localhost:8080/",
     "height": 174
    },
    "executionInfo": {
     "elapsed": 312,
     "status": "ok",
     "timestamp": 1734943471749,
     "user": {
      "displayName": "김지범",
      "userId": "05227637304833993338"
     },
     "user_tz": -540
    },
    "id": "XqHewufHsG_3",
    "outputId": "dcc8ba7c-ab32-4d04-bfbd-fb90d48af6e6"
   },
   "outputs": [
    {
     "data": {
      "text/html": [
       "<div>\n",
       "<style scoped>\n",
       "    .dataframe tbody tr th:only-of-type {\n",
       "        vertical-align: middle;\n",
       "    }\n",
       "\n",
       "    .dataframe tbody tr th {\n",
       "        vertical-align: top;\n",
       "    }\n",
       "\n",
       "    .dataframe thead th {\n",
       "        text-align: right;\n",
       "    }\n",
       "</style>\n",
       "<table border=\"1\" class=\"dataframe\">\n",
       "  <thead>\n",
       "    <tr style=\"text-align: right;\">\n",
       "      <th></th>\n",
       "      <th>Name</th>\n",
       "      <th>Age</th>\n",
       "      <th>City</th>\n",
       "    </tr>\n",
       "  </thead>\n",
       "  <tbody>\n",
       "    <tr>\n",
       "      <th>0</th>\n",
       "      <td>Alice</td>\n",
       "      <td>24</td>\n",
       "      <td>New York</td>\n",
       "    </tr>\n",
       "    <tr>\n",
       "      <th>1</th>\n",
       "      <td>Bob</td>\n",
       "      <td>27</td>\n",
       "      <td>Los Angeles</td>\n",
       "    </tr>\n",
       "    <tr>\n",
       "      <th>2</th>\n",
       "      <td>Charlie</td>\n",
       "      <td>22</td>\n",
       "      <td>Chicago</td>\n",
       "    </tr>\n",
       "    <tr>\n",
       "      <th>3</th>\n",
       "      <td>David</td>\n",
       "      <td>32</td>\n",
       "      <td>Houston</td>\n",
       "    </tr>\n",
       "  </tbody>\n",
       "</table>\n",
       "</div>"
      ],
      "text/plain": [
       "      Name  Age         City\n",
       "0    Alice   24     New York\n",
       "1      Bob   27  Los Angeles\n",
       "2  Charlie   22      Chicago\n",
       "3    David   32      Houston"
      ]
     },
     "execution_count": 20,
     "metadata": {},
     "output_type": "execute_result"
    }
   ],
   "source": [
    "df.head()       # 처음 5개 행 출력"
   ]
  },
  {
   "cell_type": "markdown",
   "metadata": {
    "id": "jhcfPuSqsNQX"
   },
   "source": [
    "### 실습문제 3"
   ]
  },
  {
   "cell_type": "code",
   "execution_count": 21,
   "metadata": {
    "colab": {
     "base_uri": "https://localhost:8080/",
     "height": 300
    },
    "executionInfo": {
     "elapsed": 513,
     "status": "ok",
     "timestamp": 1735079647054,
     "user": {
      "displayName": "김지범",
      "userId": "05227637304833993338"
     },
     "user_tz": -540
    },
    "id": "jY1M-v4KsQx4",
    "outputId": "8772cfd9-fc4f-4864-9f95-e6aecd252e78"
   },
   "outputs": [
    {
     "data": {
      "text/html": [
       "<div>\n",
       "<style scoped>\n",
       "    .dataframe tbody tr th:only-of-type {\n",
       "        vertical-align: middle;\n",
       "    }\n",
       "\n",
       "    .dataframe tbody tr th {\n",
       "        vertical-align: top;\n",
       "    }\n",
       "\n",
       "    .dataframe thead th {\n",
       "        text-align: right;\n",
       "    }\n",
       "</style>\n",
       "<table border=\"1\" class=\"dataframe\">\n",
       "  <thead>\n",
       "    <tr style=\"text-align: right;\">\n",
       "      <th></th>\n",
       "      <th>Height</th>\n",
       "      <th>Weight</th>\n",
       "    </tr>\n",
       "  </thead>\n",
       "  <tbody>\n",
       "    <tr>\n",
       "      <th>count</th>\n",
       "      <td>6.000000</td>\n",
       "      <td>6.000000</td>\n",
       "    </tr>\n",
       "    <tr>\n",
       "      <th>mean</th>\n",
       "      <td>167.500000</td>\n",
       "      <td>57.500000</td>\n",
       "    </tr>\n",
       "    <tr>\n",
       "      <th>std</th>\n",
       "      <td>9.354143</td>\n",
       "      <td>9.354143</td>\n",
       "    </tr>\n",
       "    <tr>\n",
       "      <th>min</th>\n",
       "      <td>155.000000</td>\n",
       "      <td>45.000000</td>\n",
       "    </tr>\n",
       "    <tr>\n",
       "      <th>25%</th>\n",
       "      <td>161.250000</td>\n",
       "      <td>51.250000</td>\n",
       "    </tr>\n",
       "    <tr>\n",
       "      <th>50%</th>\n",
       "      <td>167.500000</td>\n",
       "      <td>57.500000</td>\n",
       "    </tr>\n",
       "    <tr>\n",
       "      <th>75%</th>\n",
       "      <td>173.750000</td>\n",
       "      <td>63.750000</td>\n",
       "    </tr>\n",
       "    <tr>\n",
       "      <th>max</th>\n",
       "      <td>180.000000</td>\n",
       "      <td>70.000000</td>\n",
       "    </tr>\n",
       "  </tbody>\n",
       "</table>\n",
       "</div>"
      ],
      "text/plain": [
       "           Height     Weight\n",
       "count    6.000000   6.000000\n",
       "mean   167.500000  57.500000\n",
       "std      9.354143   9.354143\n",
       "min    155.000000  45.000000\n",
       "25%    161.250000  51.250000\n",
       "50%    167.500000  57.500000\n",
       "75%    173.750000  63.750000\n",
       "max    180.000000  70.000000"
      ]
     },
     "execution_count": 21,
     "metadata": {},
     "output_type": "execute_result"
    }
   ],
   "source": [
    "import pandas as pd\n",
    "# 데이터 정의\n",
    "data = {\n",
    "    \"Name\": ['A', 'B', 'C', 'D', 'E', 'F'],\n",
    "    \"Height\": [180, 160, 175, 165, 170, 155],\n",
    "    \"Weight\": [70, 50, 65, 55, 60, 45]\n",
    "}\n",
    "\n",
    "# 데이터프레임 생성\n",
    "df = pd.DataFrame(data)\n",
    "# 통계량 출력\n",
    "df.describe()"
   ]
  },
  {
   "cell_type": "code",
   "execution_count": 22,
   "metadata": {
    "colab": {
     "base_uri": "https://localhost:8080/",
     "height": 430
    },
    "executionInfo": {
     "elapsed": 911,
     "status": "ok",
     "timestamp": 1734943562344,
     "user": {
      "displayName": "김지범",
      "userId": "05227637304833993338"
     },
     "user_tz": -540
    },
    "id": "l4zsb8OKsY1u",
    "outputId": "23a1deff-b221-4442-ebe7-65d5daa3f265"
   },
   "outputs": [
    {
     "data": {
      "image/png": "[encoded data removed]",
      "text/plain": [
       "<Figure size 640x480 with 1 Axes>"
      ]
     },
     "metadata": {},
     "output_type": "display_data"
    }
   ],
   "source": [
    "import numpy as np\n",
    "import matplotlib.pyplot as plt\n",
    "x=[0,1,2,3]\n",
    "y=[0,1,4,9]\n",
    "plt.plot(x,y)\n",
    "plt.show()"
   ]
  },
  {
   "cell_type": "code",
   "execution_count": 23,
   "metadata": {
    "colab": {
     "base_uri": "https://localhost:8080/",
     "height": 430
    },
    "executionInfo": {
     "elapsed": 361,
     "status": "ok",
     "timestamp": 1734943575160,
     "user": {
      "displayName": "김지범",
      "userId": "05227637304833993338"
     },
     "user_tz": -540
    },
    "id": "r315Cvk6sgP4",
    "outputId": "bfadaeb6-20f7-4fb7-b4fa-f9af28eb3030"
   },
   "outputs": [
    {
     "data": {
      "image/png": "[encoded data removed]",
      "text/plain": [
       "<Figure size 640x480 with 1 Axes>"
      ]
     },
     "metadata": {},
     "output_type": "display_data"
    }
   ],
   "source": [
    "import numpy as np\n",
    "import matplotlib.pyplot as plt\n",
    "x=np.linspace(-5,5,100)\n",
    "plt.plot(x,x**2)\n",
    "plt.show()"
   ]
  },
  {
   "cell_type": "markdown",
   "metadata": {
    "id": "8c_2J27Osp6D"
   },
   "source": [
    "### 실습문제 4"
   ]
  },
  {
   "cell_type": "code",
   "execution_count": 24,
   "metadata": {
    "colab": {
     "base_uri": "https://localhost:8080/",
     "height": 430
    },
    "executionInfo": {
     "elapsed": 658,
     "status": "ok",
     "timestamp": 1735080152834,
     "user": {
      "displayName": "김지범",
      "userId": "05227637304833993338"
     },
     "user_tz": -540
    },
    "id": "T-mvtzwzss_8",
    "outputId": "838d0169-cd1b-49c6-9f19-0d00dd128124"
   },
   "outputs": [
    {
     "data": {
      "image/png": "[encoded data removed]",
      "text/plain": [
       "<Figure size 640x480 with 1 Axes>"
      ]
     },
     "metadata": {},
     "output_type": "display_data"
    }
   ],
   "source": [
    "import numpy as np\n",
    "import matplotlib.pyplot as plt\n",
    "# x값\n",
    "x = np.linspace(0, np.pi, 100)\n",
    "# sin/cos 함수 계산\n",
    "y1 =np.sin(x)\n",
    "y2 =np.cos(x)\n",
    "\n",
    "# 그래프 그리기\n",
    "plt.plot(x, y1, label='sin') # sin 함수 그리기\n",
    "plt.plot(x, y2, label='cos') # cos 함수 그리기\n",
    "# legend (범례)\n",
    "plt.legend()\n",
    "plt.show()"
   ]
  },
  {
   "cell_type": "code",
   "execution_count": 25,
   "metadata": {
    "colab": {
     "base_uri": "https://localhost:8080/",
     "height": 1000
    },
    "executionInfo": {
     "elapsed": 3041,
     "status": "ok",
     "timestamp": 1735080283867,
     "user": {
      "displayName": "김지범",
      "userId": "05227637304833993338"
     },
     "user_tz": -540
    },
    "id": "b2fYfaYRsw5D",
    "outputId": "5d4eff79-3ba6-4648-a1f1-fcfe0507e27a"
   },
   "outputs": [
    {
     "data": {
      "image/png": "[encoded data removed]",
      "text/plain": [
       "<Figure size 640x480 with 1 Axes>"
      ]
     },
     "metadata": {},
     "output_type": "display_data"
    },
    {
     "name": "stderr",
     "output_type": "stream",
     "text": [
      "/var/folders/47/hs2gbz691l97zgk1ll5gn8wh0000gn/T/ipykernel_8908/3464650650.py:13: FutureWarning: \n",
      "\n",
      "Passing `palette` without assigning `hue` is deprecated and will be removed in v0.14.0. Assign the `x` variable to `hue` and set `legend=False` for the same effect.\n",
      "\n",
      "  sns.boxplot(data=iris, x=\"species\", y=\"petal_length\", palette=\"pastel\")\n"
     ]
    },
    {
     "data": {
      "image/png": "[encoded data removed]",
      "text/plain": [
       "<Figure size 640x480 with 1 Axes>"
      ]
     },
     "metadata": {},
     "output_type": "display_data"
    }
   ],
   "source": [
    "import seaborn as sns\n",
    "import matplotlib.pyplot as plt\n",
    "\n",
    "# Seaborn 내장 데이터셋 로드\n",
    "iris = sns.load_dataset('iris')\n",
    "\n",
    "# 1. Scatter Plot (산점도)\n",
    "sns.scatterplot(data=iris, x=\"sepal_length\", y=\"sepal_width\", hue=\"species\", style=\"species\", palette=\"deep\")\n",
    "plt.title(\"Sepal Length vs. Sepal Width\")\n",
    "plt.show()\n",
    "\n",
    "# 2. Box Plot (박스 플롯)\n",
    "sns.boxplot(data=iris, x=\"species\", y=\"petal_length\", palette=\"pastel\")\n",
    "plt.title(\"Petal Length Distribution by Species\")\n",
    "plt.show()\n",
    "\n",
    "\n"
   ]
  },
  {
   "cell_type": "markdown",
   "metadata": {
    "id": "qjFtiXEcB5co"
   },
   "source": [
    "### 실습문제 5"
   ]
  },
  {
   "cell_type": "code",
   "execution_count": 26,
   "metadata": {
    "colab": {
     "base_uri": "https://localhost:8080/",
     "height": 449
    },
    "executionInfo": {
     "elapsed": 339,
     "status": "ok",
     "timestamp": 1735083746935,
     "user": {
      "displayName": "김지범",
      "userId": "05227637304833993338"
     },
     "user_tz": -540
    },
    "id": "5KsKiVKyB38A",
    "outputId": "431e219a-31b1-4291-8082-1f6f8869bdc8"
   },
   "outputs": [
    {
     "data": {
      "image/png": "[encoded data removed]",
      "text/plain": [
       "<Figure size 640x480 with 1 Axes>"
      ]
     },
     "metadata": {},
     "output_type": "display_data"
    }
   ],
   "source": [
    "import pandas as pd\n",
    "import matplotlib.pyplot as plt\n",
    "\n",
    "# 예제 데이터 생성\n",
    "data = {'Feature1': [2010, 2011, 2012, 2013, 2014, 2015, 2016, 2017, 2018, 2019],\n",
    "        'Feature2': [470171, 471265, 484550, 436455, 435435, 438420, 406243, 357771, 326822, 303054]}\n",
    "df = pd.DataFrame(data)\n",
    "\n",
    "# 산점도 그리기\n",
    "plt.scatter(df['Feature1'], df['Feature2'], color='blue', alpha=0.7)\n",
    "plt.xlabel('Year')\n",
    "plt.ylabel('Birth count')\n",
    "plt.grid(True)\n",
    "plt.show()"
   ]
  },
  {
   "cell_type": "markdown",
   "metadata": {
    "id": "cCV6rzkptsQZ"
   },
   "source": [
    "### Python의 사용자 정의 함수'def'"
   ]
  },
  {
   "cell_type": "code",
   "execution_count": 27,
   "metadata": {
    "colab": {
     "base_uri": "https://localhost:8080/"
    },
    "executionInfo": {
     "elapsed": 283,
     "status": "ok",
     "timestamp": 1734944016525,
     "user": {
      "displayName": "김지범",
      "userId": "05227637304833993338"
     },
     "user_tz": -540
    },
    "id": "KVMLCJEit5ON",
    "outputId": "ae39f635-0448-402d-c4ec-f29d02bdc303"
   },
   "outputs": [
    {
     "name": "stdout",
     "output_type": "stream",
     "text": [
      "8\n"
     ]
    }
   ],
   "source": [
    "# 함수 이름: add, 여기서 a와 b를 매개 변수라고 한다\n",
    "def add(a, b):\n",
    "    return a + b\n",
    "\n",
    "result = add(3, 5)\n",
    "print(result)  # 출력: 8"
   ]
  },
  {
   "cell_type": "code",
   "execution_count": 28,
   "metadata": {
    "colab": {
     "base_uri": "https://localhost:8080/"
    },
    "executionInfo": {
     "elapsed": 289,
     "status": "ok",
     "timestamp": 1734943923522,
     "user": {
      "displayName": "김지범",
      "userId": "05227637304833993338"
     },
     "user_tz": -540
    },
    "id": "xeRTUQfztzIw",
    "outputId": "f7ff3156-a907-4c86-ea45-9d21c82019cf"
   },
   "outputs": [
    {
     "name": "stdout",
     "output_type": "stream",
     "text": [
      "Hello, World!\n"
     ]
    }
   ],
   "source": [
    "# 함수 이름: say_hello, 매개 변수 없음\n",
    "def say_hello():\n",
    "    print(\"Hello, World!\")\n",
    "say_hello()"
   ]
  },
  {
   "cell_type": "code",
   "execution_count": 29,
   "metadata": {
    "colab": {
     "base_uri": "https://localhost:8080/"
    },
    "executionInfo": {
     "elapsed": 287,
     "status": "ok",
     "timestamp": 1734944089423,
     "user": {
      "displayName": "김지범",
      "userId": "05227637304833993338"
     },
     "user_tz": -540
    },
    "id": "Xjhxeu-yuP6O",
    "outputId": "6a786430-a20a-4a82-df5a-43ff84f4d2d6"
   },
   "outputs": [
    {
     "name": "stdout",
     "output_type": "stream",
     "text": [
      "리스트의 평균: 30.0\n"
     ]
    }
   ],
   "source": [
    "# list를 입력으로 받아, list의 평균 출력\n",
    "# sum(numbers): list안의 원소의 합, 이 경우 150\n",
    "# len(numbers): list의 길이, 이 경우 5\n",
    "# 최종 list의 평균은 150/5=30\n",
    "def calculate_average(numbers):\n",
    "    return sum(numbers) / len(numbers)\n",
    "\n",
    "# 함수 테스트\n",
    "numbers = [10, 20, 30, 40, 50]\n",
    "average = calculate_average(numbers)\n",
    "print(f\"리스트의 평균: {average}\")\n",
    "\n"
   ]
  },
  {
   "cell_type": "code",
   "execution_count": 30,
   "metadata": {
    "id": "cIKIpZ0YcXTq"
   },
   "outputs": [],
   "source": [
    "# 세 변수를 바"
   ]
  },
  {
   "cell_type": "markdown",
   "metadata": {
    "id": "n7ijRO2Ev6JB"
   },
   "source": [
    "### Gradient descent with line search"
   ]
  },
  {
   "cell_type": "code",
   "execution_count": 31,
   "metadata": {
    "colab": {
     "base_uri": "https://localhost:8080/"
    },
    "executionInfo": {
     "elapsed": 302,
     "status": "ok",
     "timestamp": 1734944491932,
     "user": {
      "displayName": "김지범",
      "userId": "05227637304833993338"
     },
     "user_tz": -540
    },
    "id": "diq2D_8av93l",
    "outputId": "ee2a9746-61cc-41a8-a3a0-530f7071cb0d"
   },
   "outputs": [
    {
     "name": "stdout",
     "output_type": "stream",
     "text": [
      "Converged in 39 iterations.\n",
      "최소값 위치: [ 6.78282951e-07 -1.35656590e-07]\n",
      "최소값: 2.7604065720334886e-13\n"
     ]
    }
   ],
   "source": [
    "import numpy as np\n",
    "from scipy.optimize import minimize_scalar\n",
    "\n",
    "# 함수 정의\n",
    "def f(x1, x2):\n",
    "    return 0.5 * x1**2 + 2.5 * x2**2\n",
    "\n",
    "# Gradient 계산 함수\n",
    "def gradient(x1, x2):\n",
    "    df_dx1 = x1  # f를 x1에 대해 편미분\n",
    "    df_dx2 = 5 * x2  # f를 x2에 대해 편미분\n",
    "    return np.array([df_dx1, df_dx2])\n",
    "\n",
    "# Line search: 최적의 step size를 구함\n",
    "def line_search(x, grad):\n",
    "    # 1D 함수 생성: alpha에 대한 함수\n",
    "    def f_alpha(alpha):\n",
    "        x_new = x - alpha * grad\n",
    "        return f(x_new[0], x_new[1])\n",
    "\n",
    "    # scipy를 사용해 alpha를 최소화하는 값 찾기\n",
    "    result = minimize_scalar(f_alpha, bounds=(0, 1), method='bounded')\n",
    "    return result.x  # 최적의 step size 반환\n",
    "\n",
    "# 경사 하강법 실행\n",
    "def gradient_descent(starting_point, tol=1e-6, max_iter=1000):\n",
    "    x = np.array(starting_point)\n",
    "    for i in range(max_iter):\n",
    "        grad = gradient(x[0], x[1])\n",
    "        norm_grad = np.linalg.norm(grad)  # Gradient의 크기\n",
    "        if norm_grad < tol:\n",
    "            print(f\"Converged in {i} iterations.\")\n",
    "            break\n",
    "        alpha = line_search(x, grad)  # Line search로 학습률 결정\n",
    "        x = x - alpha * grad  # 가중치 업데이트\n",
    "    return x, f(x[0], x[1])\n",
    "\n",
    "# 초기 값\n",
    "starting_point = [5, 1]\n",
    "\n",
    "# 최소값 찾기\n",
    "solution, min_value = gradient_descent(starting_point)\n",
    "print(f\"최소값 위치: {solution}\")\n",
    "print(f\"최소값: {min_value}\")\n",
    "\n"
   ]
  },
  {
   "cell_type": "markdown",
   "metadata": {
    "id": "elu6UnjvhPm9"
   },
   "source": [
    "### 실습문제 6"
   ]
  },
  {
   "cell_type": "code",
   "execution_count": 32,
   "metadata": {
    "colab": {
     "base_uri": "https://localhost:8080/"
    },
    "executionInfo": {
     "elapsed": 1796,
     "status": "ok",
     "timestamp": 1735259431503,
     "user": {
      "displayName": "김지범",
      "userId": "05227637304833993338"
     },
     "user_tz": -540
    },
    "id": "PZ90cYkyhOf7",
    "outputId": "ebde969a-15eb-42d0-da23-5554985a63ca"
   },
   "outputs": [
    {
     "name": "stdout",
     "output_type": "stream",
     "text": [
      "Converged in 1 iterations.\n",
      "최소값 위치: [0. 0.]\n",
      "최소값: 0.0\n"
     ]
    }
   ],
   "source": [
    "import numpy as np\n",
    "from scipy.optimize import minimize_scalar\n",
    "\n",
    "# 함수 정의\n",
    "def f(x1, x2):\n",
    "    return x1**2 + x2**2\n",
    "\n",
    "# Gradient 계산 함수\n",
    "def gradient(x1, x2):\n",
    "    df_dx1 = 2*x1  # f를 x1에 대해 편미분\n",
    "    df_dx2 = 2 * x2  # f를 x2에 대해 편미분\n",
    "    return np.array([df_dx1, df_dx2])\n",
    "\n",
    "# Line search: 최적의 step size를 구함\n",
    "def line_search(x, grad):\n",
    "    # 1D 함수 생성: alpha에 대한 함수\n",
    "    def f_alpha(alpha):\n",
    "        x_new = x - alpha * grad\n",
    "        return f(x_new[0], x_new[1])\n",
    "\n",
    "    # scipy를 사용해 alpha를 최소화하는 값 찾기\n",
    "    result = minimize_scalar(f_alpha, bounds=(0, 1), method='bounded')\n",
    "    return result.x  # 최적의 step size 반환\n",
    "\n",
    "# 경사 하강법 실행\n",
    "def gradient_descent(starting_point, tol=1e-6, max_iter=1000):\n",
    "    x = np.array(starting_point)\n",
    "    for i in range(max_iter):\n",
    "        grad = gradient(x[0], x[1])\n",
    "        norm_grad = np.linalg.norm(grad)  # Gradient의 크기\n",
    "        if norm_grad < tol:\n",
    "            print(f\"Converged in {i} iterations.\")\n",
    "            break\n",
    "        alpha = line_search(x, grad)  # Line search로 학습률 결정\n",
    "        x = x - alpha * grad  # 가중치 업데이트\n",
    "    return x, f(x[0], x[1])\n",
    "\n",
    "# 초기 값\n",
    "starting_point = [3, 3]\n",
    "\n",
    "# 최소값 찾기\n",
    "solution, min_value = gradient_descent(starting_point)\n",
    "print(f\"최소값 위치: {solution}\")\n",
    "print(f\"최소값: {min_value}\")\n",
    "\n"
   ]
  }
 ],
 "metadata": {
  "colab": {
   "authorship_tag": "ABX9TyMEy9HaOHRz8kOPSGLsRc3S",
   "provenance": []
  },
  "kernelspec": {
   "display_name": "base",
   "language": "python",
   "name": "python3"
  },
  "language_info": {
   "codemirror_mode": {
    "name": "ipython",
    "version": 3
   },
   "file_extension": ".py",
   "mimetype": "text/x-python",
   "name": "python",
   "nbconvert_exporter": "python",
   "pygments_lexer": "ipython3",
   "version": "3.12.2"
  }
 },
 "nbformat": 4,
 "nbformat_minor": 0
}
